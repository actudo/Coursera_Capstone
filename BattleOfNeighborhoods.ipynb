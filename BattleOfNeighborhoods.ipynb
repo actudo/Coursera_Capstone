{
 "cells": [
  {
   "cell_type": "markdown",
   "metadata": {},
   "source": [
    "<div style=\"text-align: center\"><h1>IBM Data Scientist Capstone Project<br></h1></div>\n",
    "<div style=\"text-align: left\"><h4>Author: Alexandru Tudose<br></h4></div>\n",
    "<div style=\"text-align: left\"><h2>The Battle of Neighborhoods</h2></div>\n",
    "<hr>"
   ]
  },
  {
   "cell_type": "markdown",
   "metadata": {},
   "source": [
    "<div style=\"text-align: justify\">This notebook is used for the following Data Science exercise: Given a city like the City of Toronto, it needs to be segmented into different neighborhoods using the geographical coordinates of the center of each neighborhood. Then, using a combination of location data and machine learning, the neighbourhoods will be grouped together into clusters based on properties such as terms of a service, popularity, causes of complaints, etc...</div>\n",
    "<hr>"
   ]
  },
  {
   "cell_type": "markdown",
   "metadata": {},
   "source": [
    "<div style=\"text-align: left\">\n",
    "    <i>Req: \n",
    "        <ol>\n",
    "            <li>Import the pandas library as pd</li>\n",
    "            <li>Import the Numpy library as np</li>\n",
    "        </ol>\n",
    "    </i>\n",
    "</div>"
   ]
  },
  {
   "cell_type": "code",
   "execution_count": 1,
   "metadata": {},
   "outputs": [],
   "source": [
    "#import pandas\n",
    "import pandas as pd\n",
    "\n",
    "#import numpy\n",
    "import numpy as np"
   ]
  },
  {
   "cell_type": "markdown",
   "metadata": {},
   "source": [
    "<div style=\"text-align: left\">\n",
    "    <i>Req: \n",
    "        <ol>\n",
    "            <li>Print the following the statement: Hello Capstone Project Course!</li>\n",
    "        </ol>\n",
    "    </i>\n",
    "</div>"
   ]
  },
  {
   "cell_type": "code",
   "execution_count": 2,
   "metadata": {},
   "outputs": [
    {
     "name": "stdout",
     "output_type": "stream",
     "text": [
      "Hello Capstone Project Course!\n"
     ]
    }
   ],
   "source": [
    "print(\"Hello Capstone Project Course!\")"
   ]
  },
  {
   "cell_type": "code",
   "execution_count": null,
   "metadata": {},
   "outputs": [],
   "source": []
  }
 ],
 "metadata": {
  "kernelspec": {
   "display_name": "Python 3",
   "language": "python",
   "name": "python3"
  },
  "language_info": {
   "codemirror_mode": {
    "name": "ipython",
    "version": 3
   },
   "file_extension": ".py",
   "mimetype": "text/x-python",
   "name": "python",
   "nbconvert_exporter": "python",
   "pygments_lexer": "ipython3",
   "version": "3.7.4"
  }
 },
 "nbformat": 4,
 "nbformat_minor": 2
}
